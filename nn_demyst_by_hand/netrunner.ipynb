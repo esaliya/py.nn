{
 "cells": [
  {
   "cell_type": "code",
   "execution_count": null,
   "metadata": {
    "collapsed": true
   },
   "outputs": [],
   "source": [
    "from nn1.neuralnetwork import *\n",
    "\n",
    "def gen_data():\n",
    "    # X = (hours sleeping, hours studying), y = Score on test\n",
    "    X = np.array(([3, 5], [5, 1], [10, 2]), dtype=float)\n",
    "    y = np.array(([75], [82], [93]), dtype=float)\n",
    "\n",
    "    # Normalize\n",
    "    X = X / np.amax(X, axis=0)\n",
    "    y = y / 100  # Max test score is 100\n",
    "\n",
    "    return X, y"
   ]
  }
 ],
 "metadata": {
  "kernelspec": {
   "display_name": "Python 2",
   "language": "python",
   "name": "python2"
  },
  "language_info": {
   "codemirror_mode": {
    "name": "ipython",
    "version": 2
   },
   "file_extension": ".py",
   "mimetype": "text/x-python",
   "name": "python",
   "nbconvert_exporter": "python",
   "pygments_lexer": "ipython2",
   "version": "2.7.6"
  }
 },
 "nbformat": 4,
 "nbformat_minor": 0
}
