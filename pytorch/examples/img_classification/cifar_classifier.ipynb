{
 "cells": [
  {
   "cell_type": "code",
   "execution_count": 1,
   "metadata": {},
   "outputs": [],
   "source": [
    "import torch\n",
    "import torchvision\n",
    "import torchvision.transforms as tt\n",
    "from torchvision.datasets import ImageFolder"
   ]
  },
  {
   "cell_type": "code",
   "execution_count": 13,
   "metadata": {},
   "outputs": [],
   "source": [
    "import socket\n",
    "hname = socket.gethostname()\n",
    "if \"futuresystems\" in hname:\n",
    "    PATH = \"/N/u/sekanaya/sali/git/github/esaliya/python/data/cifar10/\"\n",
    "elif \"MacBook\" in hname:\n",
    "    PATH = \"/Users/esaliya/sali/data/cifar10/\"\n",
    "else:\n",
    "    print(\"Error: couldn't figure out the data path for the host\")\n",
    "train_dir, test_dir = PATH + 'train', PATH + 'test'"
   ]
  },
  {
   "cell_type": "code",
   "execution_count": 49,
   "metadata": {},
   "outputs": [],
   "source": [
    "transforms = tt.Compose(\n",
    "    [tt.ToTensor(),\n",
    "     tt.Normalize((0.5, 0.5, 0.5), (0.5, 0.5, 0.5))])\n",
    "\n",
    "train_set = ImageFolder(train_dir, transforms)\n",
    "test_set = ImageFolder(test_dir, transforms)"
   ]
  },
  {
   "cell_type": "code",
   "execution_count": 22,
   "metadata": {},
   "outputs": [],
   "source": [
    "batch_size = 4\n",
    "train_loader = torch.utils.data.DataLoader(train_set, batch_size=batch_size,\n",
    "                                          shuffle=True, num_workers=2)"
   ]
  },
  {
   "cell_type": "code",
   "execution_count": 33,
   "metadata": {},
   "outputs": [],
   "source": [
    "test_loader = torch.utils.data.DataLoader(test_set, batch_size=batch_size,\n",
    "                                         shuffle=False, num_workers=2)"
   ]
  },
  {
   "cell_type": "code",
   "execution_count": 24,
   "metadata": {},
   "outputs": [],
   "source": [
    "classes = ('plane', 'car', 'bird', 'cat', 'deer', 'dog', \n",
    "           'frog', 'horse', 'ship', 'truck')"
   ]
  },
  {
   "cell_type": "markdown",
   "metadata": {},
   "source": [
    "**Let's see some of these images with their labels**"
   ]
  },
  {
   "cell_type": "code",
   "execution_count": 20,
   "metadata": {},
   "outputs": [],
   "source": [
    "import matplotlib.pyplot as plt\n",
    "import numpy as np\n",
    "\n",
    "def imshow(img):\n",
    "    img = img / 2 + 0.5 # unnormalize\n",
    "    npimg = img.numpy()\n",
    "    plt.imshow(np.transpose(npimg, (1, 2, 0)))"
   ]
  },
  {
   "cell_type": "code",
   "execution_count": 51,
   "metadata": {},
   "outputs": [
    {
     "name": "stdout",
     "output_type": "stream",
     "text": [
      "tensor([ 7,  3,  8,  6])\n",
      "torch.Size([4, 3, 32, 32])\n",
      "horse   cat  ship  frog\n"
     ]
    },
    {
     "data": {
      "image/png": "[encoded data removed]",
      "text/plain": [
       "<Figure size 432x288 with 1 Axes>"
      ]
     },
     "metadata": {},
     "output_type": "display_data"
    }
   ],
   "source": [
    "dataiter = iter(train_loader)\n",
    "images, labels = dataiter.next()\n",
    "print(labels)\n",
    "print(images.shape)\n",
    "\n",
    "imshow(torchvision.utils.make_grid(images))\n",
    "print(' '.join('%5s' % classes[labels[j]] for j in range(4)))"
   ]
  },
  {
   "cell_type": "markdown",
   "metadata": {},
   "source": [
    "**Define a CNN**"
   ]
  },
  {
   "cell_type": "code",
   "execution_count": 27,
   "metadata": {},
   "outputs": [],
   "source": [
    "import torch.nn as nn\n",
    "import torch.nn.functional as F\n",
    "\n",
    "class Net(nn.Module):\n",
    "    def __init__(self):\n",
    "        super(Net, self).__init__()\n",
    "        self.conv1 = nn.Conv2d(3, 6, 5)\n",
    "        self.pool = nn.MaxPool2d(2, 2)\n",
    "        self.conv2 = nn.Conv2d(6, 16, 5)\n",
    "        self.fc1 = nn.Linear(16 * 5 * 5, 120)\n",
    "        self.fc2 = nn.Linear(120, 84)\n",
    "        self.fc3 = nn.Linear(84, 10)\n",
    "    \n",
    "    def forward(self, x):\n",
    "        x = self.pool(F.relu(self.conv1(x)))\n",
    "        x = self.pool(F.relu(self.conv2(x)))\n",
    "        x = x.view(-1, 16 * 5 *5)\n",
    "        x = F.relu(self.fc1(x))\n",
    "        x = F.relu(self.fc2(x))\n",
    "        x = self.fc3(x)\n",
    "        return x\n",
    "\n",
    "net = Net()\n",
    "                      "
   ]
  },
  {
   "cell_type": "markdown",
   "metadata": {},
   "source": [
    "**Define a loss function and optimizer**"
   ]
  },
  {
   "cell_type": "code",
   "execution_count": 29,
   "metadata": {},
   "outputs": [],
   "source": [
    "import torch.optim as optim\n",
    "\n",
    "criterion = nn.CrossEntropyLoss()\n",
    "optimizer = optim.SGD(net.parameters(), lr=0.001, momentum=0.9)"
   ]
  },
  {
   "cell_type": "markdown",
   "metadata": {},
   "source": [
    "**Train the network**"
   ]
  },
  {
   "cell_type": "code",
   "execution_count": 44,
   "metadata": {},
   "outputs": [
    {
     "name": "stdout",
     "output_type": "stream",
     "text": [
      "[1,  2000] loss: 1.191\n",
      "[1,  4000] loss: 1.173\n",
      "[1,  6000] loss: 1.175\n",
      "[1,  8000] loss: 1.154\n",
      "[1, 10000] loss: 1.168\n",
      "[1, 12000] loss: 1.148\n",
      "[2,  2000] loss: 1.055\n",
      "[2,  4000] loss: 1.076\n",
      "[2,  6000] loss: 1.086\n",
      "[2,  8000] loss: 1.063\n",
      "[2, 10000] loss: 1.068\n",
      "[2, 12000] loss: 1.042\n",
      "[3,  2000] loss: 0.964\n",
      "[3,  4000] loss: 0.966\n",
      "[3,  6000] loss: 0.989\n",
      "[3,  8000] loss: 1.001\n",
      "[3, 10000] loss: 0.993\n",
      "[3, 12000] loss: 1.021\n",
      "[4,  2000] loss: 0.925\n",
      "[4,  4000] loss: 0.912\n",
      "[4,  6000] loss: 0.929\n",
      "[4,  8000] loss: 0.912\n",
      "[4, 10000] loss: 0.933\n",
      "[4, 12000] loss: 0.973\n",
      "[5,  2000] loss: 0.870\n",
      "[5,  4000] loss: 0.880\n",
      "[5,  6000] loss: 0.873\n",
      "[5,  8000] loss: 0.902\n",
      "[5, 10000] loss: 0.899\n",
      "[5, 12000] loss: 0.887\n",
      "[6,  2000] loss: 0.799\n",
      "[6,  4000] loss: 0.836\n",
      "[6,  6000] loss: 0.835\n",
      "[6,  8000] loss: 0.875\n",
      "[6, 10000] loss: 0.861\n",
      "[6, 12000] loss: 0.866\n",
      "[7,  2000] loss: 0.764\n",
      "[7,  4000] loss: 0.783\n",
      "[7,  6000] loss: 0.809\n",
      "[7,  8000] loss: 0.829\n",
      "[7, 10000] loss: 0.843\n",
      "[7, 12000] loss: 0.841\n",
      "[8,  2000] loss: 0.757\n",
      "[8,  4000] loss: 0.747\n",
      "[8,  6000] loss: 0.795\n",
      "[8,  8000] loss: 0.779\n",
      "[8, 10000] loss: 0.798\n",
      "[8, 12000] loss: 0.823\n",
      "[9,  2000] loss: 0.716\n",
      "[9,  4000] loss: 0.741\n",
      "[9,  6000] loss: 0.736\n",
      "[9,  8000] loss: 0.773\n",
      "[9, 10000] loss: 0.780\n",
      "[9, 12000] loss: 0.797\n",
      "[10,  2000] loss: 0.685\n",
      "[10,  4000] loss: 0.697\n",
      "[10,  6000] loss: 0.732\n",
      "[10,  8000] loss: 0.752\n",
      "[10, 10000] loss: 0.761\n",
      "[10, 12000] loss: 0.784\n",
      "[11,  2000] loss: 0.671\n",
      "[11,  4000] loss: 0.692\n",
      "[11,  6000] loss: 0.718\n",
      "[11,  8000] loss: 0.732\n",
      "[11, 10000] loss: 0.730\n",
      "[11, 12000] loss: 0.731\n",
      "[12,  2000] loss: 0.632\n",
      "[12,  4000] loss: 0.660\n",
      "[12,  6000] loss: 0.707\n",
      "[12,  8000] loss: 0.724\n",
      "[12, 10000] loss: 0.726\n",
      "[12, 12000] loss: 0.728\n",
      "[13,  2000] loss: 0.620\n",
      "[13,  4000] loss: 0.637\n",
      "[13,  6000] loss: 0.684\n",
      "[13,  8000] loss: 0.702\n",
      "[13, 10000] loss: 0.714\n",
      "[13, 12000] loss: 0.713\n",
      "[14,  2000] loss: 0.590\n",
      "[14,  4000] loss: 0.648\n",
      "[14,  6000] loss: 0.665\n",
      "[14,  8000] loss: 0.698\n",
      "[14, 10000] loss: 0.700\n",
      "[14, 12000] loss: 0.705\n",
      "[15,  2000] loss: 0.574\n",
      "[15,  4000] loss: 0.623\n",
      "[15,  6000] loss: 0.658\n",
      "[15,  8000] loss: 0.665\n",
      "[15, 10000] loss: 0.703\n",
      "[15, 12000] loss: 0.711\n",
      "[16,  2000] loss: 0.566\n",
      "[16,  4000] loss: 0.619\n",
      "[16,  6000] loss: 0.631\n",
      "[16,  8000] loss: 0.662\n",
      "[16, 10000] loss: 0.682\n",
      "[16, 12000] loss: 0.685\n",
      "[17,  2000] loss: 0.583\n",
      "[17,  4000] loss: 0.601\n",
      "[17,  6000] loss: 0.625\n",
      "[17,  8000] loss: 0.637\n",
      "[17, 10000] loss: 0.641\n",
      "[17, 12000] loss: 0.670\n",
      "[18,  2000] loss: 0.539\n",
      "[18,  4000] loss: 0.588\n",
      "[18,  6000] loss: 0.619\n",
      "[18,  8000] loss: 0.631\n",
      "[18, 10000] loss: 0.657\n",
      "[18, 12000] loss: 0.689\n",
      "[19,  2000] loss: 0.550\n",
      "[19,  4000] loss: 0.569\n",
      "[19,  6000] loss: 0.626\n",
      "[19,  8000] loss: 0.649\n",
      "[19, 10000] loss: 0.642\n",
      "[19, 12000] loss: 0.694\n",
      "[20,  2000] loss: 0.541\n",
      "[20,  4000] loss: 0.569\n",
      "[20,  6000] loss: 0.594\n",
      "[20,  8000] loss: 0.638\n",
      "[20, 10000] loss: 0.660\n",
      "[20, 12000] loss: 0.667\n",
      "Finished Training\n"
     ]
    }
   ],
   "source": [
    "for epoch in range(20):\n",
    "    running_loss = 0.0\n",
    "    for i, data in enumerate(train_loader, 0):\n",
    "        # get the inputs\n",
    "        inputs, labels = data\n",
    "        \n",
    "        # zero the parameter gradients\n",
    "        optimizer.zero_grad()\n",
    "        \n",
    "        # forward + backward + optimize\n",
    "        outputs = net(inputs)\n",
    "        loss = criterion(outputs, labels)\n",
    "        loss.backward()\n",
    "        optimizer.step()\n",
    "        \n",
    "        running_loss += loss.item()\n",
    "        if i % 2000 == 1999: # print every 2000 mini-batches\n",
    "            print('[%d, %5d] loss: %.3f' % (epoch + 1, i + 1, running_loss / 2000))\n",
    "            running_loss = 0.0\n",
    "    \n",
    "print('Finished Training')\n",
    "    \n",
    "    "
   ]
  },
  {
   "cell_type": "markdown",
   "metadata": {},
   "source": [
    "**Test the network on the test data**"
   ]
  },
  {
   "cell_type": "code",
   "execution_count": 45,
   "metadata": {},
   "outputs": [
    {
     "name": "stdout",
     "output_type": "stream",
     "text": [
      "GroundTruth:  plane plane plane plane\n"
     ]
    },
    {
     "data": {
      "image/png": "[encoded data removed]",
      "text/plain": [
       "<Figure size 432x288 with 1 Axes>"
      ]
     },
     "metadata": {},
     "output_type": "display_data"
    }
   ],
   "source": [
    "dataiter = iter(test_loader)\n",
    "images, labels = dataiter.next()\n",
    "\n",
    "# print images\n",
    "imshow(torchvision.utils.make_grid(images))\n",
    "print('GroundTruth: ', ' '.join('%5s' % classes[labels[j]] for j in range(batch_size)))"
   ]
  },
  {
   "cell_type": "markdown",
   "metadata": {},
   "source": [
    "*Let's see what the network outputs for these test images*"
   ]
  },
  {
   "cell_type": "code",
   "execution_count": 46,
   "metadata": {},
   "outputs": [
    {
     "name": "stdout",
     "output_type": "stream",
     "text": [
      "Predicted:  plane plane plane plane\n"
     ]
    }
   ],
   "source": [
    "outputs = net(images)\n",
    "_, predicted = torch.max(outputs, 1)\n",
    "print('Predicted: ', ' '.join('%5s' % classes[labels[j]] for j in range(batch_size)))"
   ]
  },
  {
   "cell_type": "markdown",
   "metadata": {},
   "source": [
    "**Let's see how the network performed on the whole test dataset**"
   ]
  },
  {
   "cell_type": "code",
   "execution_count": 47,
   "metadata": {},
   "outputs": [
    {
     "name": "stdout",
     "output_type": "stream",
     "text": [
      "accuracy of the network on the 10k test images: 61 %\n"
     ]
    }
   ],
   "source": [
    "correct = 0\n",
    "total = 0\n",
    "\n",
    "with torch.no_grad():\n",
    "    for data in test_loader:\n",
    "        images, labels = data\n",
    "        outputs = net(images)\n",
    "        _, predicted = torch.max(outputs.data, 1)\n",
    "        total += labels.size(0)\n",
    "        correct += (predicted == labels).sum().item()\n",
    "        \n",
    "print(\"accuracy of the network on the 10k test images: %d %%\" % (100 * correct / total))"
   ]
  },
  {
   "cell_type": "markdown",
   "metadata": {},
   "source": [
    "*Accuracy per class*"
   ]
  },
  {
   "cell_type": "code",
   "execution_count": 48,
   "metadata": {},
   "outputs": [
    {
     "name": "stdout",
     "output_type": "stream",
     "text": [
      "Accuracy of plane :  5 %\n",
      "Accuracy of   car :  7 %\n",
      "Accuracy of  bird :  5 %\n",
      "Accuracy of   cat :  4 %\n",
      "Accuracy of  deer :  6 %\n",
      "Accuracy of   dog :  5 %\n",
      "Accuracy of  frog :  6 %\n",
      "Accuracy of horse :  6 %\n",
      "Accuracy of  ship :  7 %\n",
      "Accuracy of truck :  7 %\n"
     ]
    }
   ],
   "source": [
    "class_correct = list(0. for i in range(10))\n",
    "class_total = list(0. for i in range(10))\n",
    "\n",
    "with torch.no_grad():\n",
    "    for data in test_loader:\n",
    "        images, labels = data\n",
    "        outputs = net(images)\n",
    "        _, predicted = torch.max(outputs, 1)\n",
    "        c = (predicted == labels).squeeze()\n",
    "        for i in range(batch_size):\n",
    "            label = labels[i]\n",
    "            class_correct[label] += c[i].item()\n",
    "            class_total[label] += 10\n",
    "\n",
    "for i in range(10):\n",
    "    print('Accuracy of %5s : %2d %%' % (classes[i], 100*class_correct[i] / class_total[i]))\n",
    "    \n",
    "        "
   ]
  },
  {
   "cell_type": "code",
   "execution_count": null,
   "metadata": {},
   "outputs": [],
   "source": []
  }
 ],
 "metadata": {
  "kernelspec": {
   "display_name": "Python 3",
   "language": "python",
   "name": "python3"
  },
  "language_info": {
   "codemirror_mode": {
    "name": "ipython",
    "version": 3
   },
   "file_extension": ".py",
   "mimetype": "text/x-python",
   "name": "python",
   "nbconvert_exporter": "python",
   "pygments_lexer": "ipython3",
   "version": "3.6.5"
  }
 },
 "nbformat": 4,
 "nbformat_minor": 2
}
