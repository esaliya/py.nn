{
 "cells": [
  {
   "cell_type": "markdown",
   "metadata": {},
   "source": [
    "## TensorFlow Guide\n",
    "### Introduction\n",
    "https://www.tensorflow.org/guide/low_level_intro "
   ]
  },
  {
   "cell_type": "code",
   "execution_count": 1,
   "metadata": {},
   "outputs": [],
   "source": [
    "from __future__ import absolute_import\n",
    "from __future__ import division\n",
    "from __future__ import print_function\n",
    "\n",
    "import numpy as np\n",
    "import tensorflow as tf"
   ]
  },
  {
   "cell_type": "code",
   "execution_count": 3,
   "metadata": {},
   "outputs": [
    {
     "name": "stdout",
     "output_type": "stream",
     "text": [
      "Tensor(\"Const_1:0\", shape=(), dtype=float32)\n",
      "Tensor(\"Const_2:0\", shape=(), dtype=float32)\n",
      "Tensor(\"add:0\", shape=(), dtype=float32)\n"
     ]
    }
   ],
   "source": [
    "a = tf.constant(3.0, dtype=tf.float32)\n",
    "b = tf.constant(4.0) #tf.float32 implicitly\n",
    "\n",
    "total = a + b\n",
    "print(a)\n",
    "print(b)\n",
    "print(total)"
   ]
  },
  {
   "cell_type": "code",
   "execution_count": 4,
   "metadata": {},
   "outputs": [],
   "source": [
    "writer = tf.summary.FileWriter('.')\n",
    "writer.add_graph(tf.get_default_graph())"
   ]
  },
  {
   "cell_type": "code",
   "execution_count": 5,
   "metadata": {},
   "outputs": [
    {
     "name": "stdout",
     "output_type": "stream",
     "text": [
      "7.0\n"
     ]
    }
   ],
   "source": [
    "sess = tf.Session()\n",
    "print(sess.run(total))"
   ]
  },
  {
   "cell_type": "code",
   "execution_count": 6,
   "metadata": {},
   "outputs": [
    {
     "name": "stdout",
     "output_type": "stream",
     "text": [
      "{'ab': (3.0, 4.0), 'total': 7.0}\n"
     ]
    }
   ],
   "source": [
    "print(sess.run({'ab': (a, b), 'total': total}))"
   ]
  },
  {
   "cell_type": "markdown",
   "metadata": {},
   "source": [
    "**One value within a session**\n",
    "\n",
    "e.g. the two ***sess.run(vec)*** calls gives two sets of values for vec.\n",
    "That's because these were two run calls. If they were in one then\n",
    "vec would have only one value like shown in ***sess.run((out, out2))*** call"
   ]
  },
  {
   "cell_type": "code",
   "execution_count": 70,
   "metadata": {},
   "outputs": [
    {
     "name": "stdout",
     "output_type": "stream",
     "text": [
      "[0.06374729 0.688208   0.7294078 ]\n",
      "[0.95203805 0.6742761  0.36814666]\n",
      "(array([1.0235859, 1.3800303, 1.0080912], dtype=float32), array([2.0235858, 2.3800302, 2.0080912], dtype=float32))\n",
      "[1.3133479 1.5018744 1.7130816]\n"
     ]
    }
   ],
   "source": [
    "vec = tf.random_uniform(shape=(3,))\n",
    "out1 = vec + 1\n",
    "out2 = vec + 2\n",
    "print(sess.run(vec))\n",
    "print(sess.run(vec))\n",
    "print(sess.run((out1, out2)))\n",
    "print(sess.run(out1))\n"
   ]
  },
  {
   "cell_type": "code",
   "execution_count": 71,
   "metadata": {},
   "outputs": [
    {
     "name": "stdout",
     "output_type": "stream",
     "text": [
      "[1.334705 1.273536 1.857341]\n"
     ]
    }
   ],
   "source": [
    "print(sess.run(out1))"
   ]
  },
  {
   "cell_type": "markdown",
   "metadata": {},
   "source": [
    "**Feeding**"
   ]
  },
  {
   "cell_type": "code",
   "execution_count": 36,
   "metadata": {},
   "outputs": [
    {
     "name": "stdout",
     "output_type": "stream",
     "text": [
      "Tensor(\"add_4:0\", dtype=float32)\n"
     ]
    }
   ],
   "source": [
    "x = tf.placeholder(tf.float32)\n",
    "y = tf.placeholder(tf.float32)\n",
    "z = x + y\n",
    "\n",
    "print(z)"
   ]
  },
  {
   "cell_type": "code",
   "execution_count": 38,
   "metadata": {},
   "outputs": [
    {
     "name": "stdout",
     "output_type": "stream",
     "text": [
      "6.5\n",
      "[3. 7.]\n",
      "9.0\n"
     ]
    }
   ],
   "source": [
    "print(sess.run(z, feed_dict={x: 2, y: 4.5}))\n",
    "print(sess.run(z, feed_dict={x: [1, 3], y: [2, 4]}))\n",
    "print(sess.run(z, {x: 4, y: 5}))"
   ]
  },
  {
   "cell_type": "markdown",
   "metadata": {},
   "source": [
    "**Datasets**"
   ]
  },
  {
   "cell_type": "code",
   "execution_count": 13,
   "metadata": {},
   "outputs": [
    {
     "name": "stdout",
     "output_type": "stream",
     "text": [
      "[0 1]\n",
      "[2 3]\n",
      "[4 5]\n",
      "[6 7]\n"
     ]
    }
   ],
   "source": [
    "my_data = [\n",
    "    [0, 1],\n",
    "    [2, 3],\n",
    "    [4, 5],\n",
    "    [6, 7]\n",
    "]\n",
    "slices = tf.data.Dataset.from_tensor_slices(my_data)\n",
    "next_item = slices.make_one_shot_iterator().get_next()\n",
    "\n",
    "while True:\n",
    "    try:\n",
    "        print(sess.run(next_item))\n",
    "    except tf.errors.OutOfRangeError:\n",
    "        break"
   ]
  },
  {
   "cell_type": "code",
   "execution_count": 25,
   "metadata": {},
   "outputs": [],
   "source": [
    "r = tf.random_normal([10,3])\n",
    "dataset = tf.data.Dataset.from_tensor_slices(r)\n",
    "iterator = dataset.make_initializable_iterator()\n",
    "next_row = iterator.get_next()"
   ]
  },
  {
   "cell_type": "code",
   "execution_count": 31,
   "metadata": {},
   "outputs": [],
   "source": [
    "sess.run(iterator.initializer)"
   ]
  },
  {
   "cell_type": "code",
   "execution_count": 32,
   "metadata": {},
   "outputs": [
    {
     "name": "stdout",
     "output_type": "stream",
     "text": [
      "[ 0.22501922 -2.0728457  -0.725248  ]\n",
      "[ 1.8925657  -0.13847487  0.07284713]\n",
      "[ 0.68078023 -0.06069195  0.23558158]\n",
      "[ 0.5102637  -0.47065938 -0.5242628 ]\n",
      "[-0.61051047 -0.82380474 -1.1289504 ]\n",
      "[0.23460358 0.56900674 0.91986287]\n",
      "[-1.8023225 -1.7104388  0.1892082]\n",
      "[0.7863023  0.48373973 0.16975455]\n",
      "[-1.9684476  1.006028  -1.5054568]\n",
      "[ 0.0054974  -1.7558231  -0.41747016]\n"
     ]
    }
   ],
   "source": [
    "while True:\n",
    "  try:\n",
    "    print(sess.run(next_row))\n",
    "  except tf.errors.OutOfRangeError:\n",
    "    break"
   ]
  },
  {
   "cell_type": "markdown",
   "metadata": {},
   "source": [
    "**Layers**"
   ]
  },
  {
   "cell_type": "code",
   "execution_count": 43,
   "metadata": {},
   "outputs": [],
   "source": [
    "x = tf.placeholder(tf.float32, shape=[None, 3])\n",
    "linear_model = tf.layers.Dense(units=1)\n",
    "y = linear_model(x)"
   ]
  },
  {
   "cell_type": "code",
   "execution_count": 44,
   "metadata": {},
   "outputs": [],
   "source": [
    "init = tf.global_variables_initializer()\n",
    "sess.run(init)"
   ]
  },
  {
   "cell_type": "code",
   "execution_count": 46,
   "metadata": {},
   "outputs": [
    {
     "name": "stdout",
     "output_type": "stream",
     "text": [
      "[[-0.195876  ]\n",
      " [ 0.40245104]]\n"
     ]
    }
   ],
   "source": [
    "print(sess.run(y, {x: [[1, 2, 3], [4, 5, 6]]}))"
   ]
  },
  {
   "cell_type": "markdown",
   "metadata": {},
   "source": [
    "*Layer Function Shortcuts*"
   ]
  },
  {
   "cell_type": "code",
   "execution_count": 42,
   "metadata": {},
   "outputs": [
    {
     "name": "stdout",
     "output_type": "stream",
     "text": [
      "[[3.0949063]\n",
      " [7.3956013]]\n"
     ]
    }
   ],
   "source": [
    "x = tf.placeholder(tf.float32, shape=[None, 3])\n",
    "y = tf.layers.dense(x, units=1)\n",
    "\n",
    "init = tf.global_variables_initializer()\n",
    "sess.run(init)\n",
    "\n",
    "print(sess.run(y, {x: [[1, 2, 3], [4, 5, 6]]}))"
   ]
  },
  {
   "cell_type": "markdown",
   "metadata": {},
   "source": [
    "**Features**"
   ]
  },
  {
   "cell_type": "code",
   "execution_count": 47,
   "metadata": {},
   "outputs": [],
   "source": [
    "features = {\n",
    "    'sales' : [[5], [10], [8], [9]],\n",
    "    'department': ['sports', 'sports', 'gardening', 'gardening']}\n",
    "\n",
    "department_column = tf.feature_column.categorical_column_with_vocabulary_list(\n",
    "        'department', ['sports', 'gardening'])\n",
    "department_column = tf.feature_column.indicator_column(department_column)\n",
    "\n",
    "columns = [\n",
    "    tf.feature_column.numeric_column('sales'),\n",
    "    department_column\n",
    "]\n",
    "\n",
    "inputs = tf.feature_column.input_layer(features, columns)"
   ]
  },
  {
   "cell_type": "code",
   "execution_count": 48,
   "metadata": {},
   "outputs": [
    {
     "data": {
      "text/plain": [
       "(None, None)"
      ]
     },
     "execution_count": 48,
     "metadata": {},
     "output_type": "execute_result"
    }
   ],
   "source": [
    "var_init = tf.global_variables_initializer()\n",
    "table_init = tf.tables_initializer()\n",
    "sess = tf.Session()\n",
    "sess.run((var_init, table_init))"
   ]
  },
  {
   "cell_type": "code",
   "execution_count": 49,
   "metadata": {},
   "outputs": [
    {
     "name": "stdout",
     "output_type": "stream",
     "text": [
      "[[ 1.  0.  5.]\n",
      " [ 1.  0. 10.]\n",
      " [ 0.  1.  8.]\n",
      " [ 0.  1.  9.]]\n"
     ]
    }
   ],
   "source": [
    "print(sess.run(inputs))"
   ]
  },
  {
   "cell_type": "markdown",
   "metadata": {},
   "source": [
    "**Training**"
   ]
  },
  {
   "cell_type": "code",
   "execution_count": 50,
   "metadata": {},
   "outputs": [],
   "source": [
    "x = tf.constant([[1], [2], [3], [4]], dtype=tf.float32)\n",
    "y_true = tf.constant([[0], [-1], [-2], [-3]], dtype=tf.float32)"
   ]
  },
  {
   "cell_type": "code",
   "execution_count": 51,
   "metadata": {},
   "outputs": [],
   "source": [
    "linear_model = tf.layers.Dense(units=1)\n",
    "y_pred = linear_model(x)"
   ]
  },
  {
   "cell_type": "code",
   "execution_count": 61,
   "metadata": {},
   "outputs": [
    {
     "name": "stdout",
     "output_type": "stream",
     "text": [
      "[[-1.3871846]\n",
      " [-2.7743692]\n",
      " [-4.161554 ]\n",
      " [-5.5487385]]\n"
     ]
    }
   ],
   "source": [
    "sess = tf.Session()\n",
    "init = tf.global_variables_initializer()\n",
    "sess.run(init)\n",
    "\n",
    "print(sess.run(y_pred))"
   ]
  },
  {
   "cell_type": "code",
   "execution_count": 72,
   "metadata": {},
   "outputs": [
    {
     "name": "stdout",
     "output_type": "stream",
     "text": [
      "4.0602627\n"
     ]
    }
   ],
   "source": [
    "loss = tf.losses.mean_squared_error(labels=y_true, predictions=y_pred)\n",
    "\n",
    "print(sess.run(loss))"
   ]
  },
  {
   "cell_type": "code",
   "execution_count": 74,
   "metadata": {},
   "outputs": [],
   "source": [
    "optimizer = tf.train.GradientDescentOptimizer(0.01)\n",
    "train = optimizer.minimize(loss)"
   ]
  },
  {
   "cell_type": "code",
   "execution_count": 75,
   "metadata": {},
   "outputs": [
    {
     "name": "stdout",
     "output_type": "stream",
     "text": [
      "4.0602627\n",
      "2.8476934\n",
      "2.0061355\n",
      "1.4220161\n",
      "1.0165285\n",
      "0.7349911\n",
      "0.5394608\n",
      "0.40361035\n",
      "0.30917138\n",
      "0.24346823\n",
      "0.1977051\n",
      "0.16577902\n",
      "0.1434552\n",
      "0.1277953\n",
      "0.11676026\n",
      "0.10893537\n",
      "0.10333889\n",
      "0.09928974\n",
      "0.09631518\n",
      "0.09408726\n",
      "0.09237835\n",
      "0.091030635\n",
      "0.08993447\n",
      "0.08901378\n",
      "0.08821586\n",
      "0.087504044\n",
      "0.08685289\n",
      "0.08624485\n",
      "0.085667595\n",
      "0.085112676\n",
      "0.08457415\n",
      "0.08404791\n",
      "0.08353113\n",
      "0.08302179\n",
      "0.08251854\n",
      "0.08202041\n",
      "0.08152673\n",
      "0.08103699\n",
      "0.080550894\n",
      "0.08006816\n",
      "0.07958867\n",
      "0.079112306\n",
      "0.07863893\n",
      "0.07816853\n",
      "0.07770097\n",
      "0.07723629\n",
      "0.07677442\n",
      "0.07631533\n",
      "0.075858995\n",
      "0.07540545\n",
      "0.074954584\n",
      "0.07450642\n",
      "0.07406098\n",
      "0.073618144\n",
      "0.07317799\n",
      "0.07274047\n",
      "0.07230557\n",
      "0.071873255\n",
      "0.07144356\n",
      "0.071016386\n",
      "0.0705918\n",
      "0.07016974\n",
      "0.06975023\n",
      "0.069333196\n",
      "0.06891865\n",
      "0.0685066\n",
      "0.068096995\n",
      "0.067689896\n",
      "0.067285165\n",
      "0.066882886\n",
      "0.066483\n",
      "0.06608549\n",
      "0.065690406\n",
      "0.065297626\n",
      "0.064907216\n",
      "0.06451916\n",
      "0.06413341\n",
      "0.06374997\n",
      "0.06336881\n",
      "0.06298995\n",
      "0.06261333\n",
      "0.062238976\n",
      "0.061866857\n",
      "0.061496966\n",
      "0.061129283\n",
      "0.060763806\n",
      "0.06040049\n",
      "0.06003938\n",
      "0.059680395\n",
      "0.059323605\n",
      "0.058968924\n",
      "0.058616333\n",
      "0.0582659\n",
      "0.057917528\n",
      "0.057571255\n",
      "0.057227023\n",
      "0.056884885\n",
      "0.05654479\n",
      "0.05620669\n",
      "0.055870652\n"
     ]
    }
   ],
   "source": [
    "for i in range(100):\n",
    "  _, loss_value = sess.run((train, loss))\n",
    "  print(loss_value)"
   ]
  },
  {
   "cell_type": "markdown",
   "metadata": {},
   "source": [
    "*Complete Program*"
   ]
  },
  {
   "cell_type": "code",
   "execution_count": 77,
   "metadata": {},
   "outputs": [
    {
     "name": "stdout",
     "output_type": "stream",
     "text": [
      "0.79425657\n",
      "0.592605\n",
      "0.45243546\n",
      "0.35492805\n",
      "0.28702447\n",
      "0.23966414\n",
      "0.20655963\n",
      "0.18334837\n",
      "0.16700326\n",
      "0.15542388\n",
      "0.14715277\n",
      "0.14117864\n",
      "0.1367997\n",
      "0.13352905\n",
      "0.13102879\n",
      "0.12906444\n",
      "0.12747337\n",
      "0.12614265\n",
      "0.12499393\n",
      "0.12397285\n",
      "0.123041674\n",
      "0.12217425\n",
      "0.121352315\n",
      "0.12056333\n",
      "0.11979846\n",
      "0.11905168\n",
      "0.1183187\n",
      "0.117596544\n",
      "0.116883256\n",
      "0.116177335\n",
      "0.11547785\n",
      "0.11478401\n",
      "0.11409536\n",
      "0.11341154\n",
      "0.11273236\n",
      "0.11205753\n",
      "0.111387014\n",
      "0.11072069\n",
      "0.11005843\n",
      "0.10940024\n",
      "0.10874603\n",
      "0.10809575\n",
      "0.1074494\n",
      "0.10680693\n",
      "0.10616833\n",
      "0.10553352\n",
      "0.10490255\n",
      "0.10427538\n",
      "0.10365192\n",
      "0.10303218\n",
      "0.10241614\n",
      "0.101803854\n",
      "0.10119514\n",
      "0.10059014\n",
      "0.099988714\n",
      "0.09939092\n",
      "0.09879669\n",
      "0.098205976\n",
      "0.0976188\n",
      "0.09703518\n",
      "0.09645501\n",
      "0.0958783\n",
      "0.09530509\n",
      "0.09473525\n",
      "0.09416884\n",
      "0.093605824\n",
      "0.09304617\n",
      "0.092489876\n",
      "0.09193689\n",
      "0.09138721\n",
      "0.09084081\n",
      "0.090297714\n",
      "0.08975782\n",
      "0.08922118\n",
      "0.08868774\n",
      "0.08815749\n",
      "0.0876304\n",
      "0.0871065\n",
      "0.08658568\n",
      "0.08606801\n",
      "0.08555343\n",
      "0.0850419\n",
      "0.08453346\n",
      "0.08402805\n",
      "0.08352566\n",
      "0.083026245\n",
      "0.082529865\n",
      "0.08203645\n",
      "0.08154593\n",
      "0.0810584\n",
      "0.08057377\n",
      "0.08009202\n",
      "0.07961315\n",
      "0.07913717\n",
      "0.07866402\n",
      "0.07819369\n",
      "0.077726215\n",
      "0.07726148\n",
      "0.07679954\n",
      "0.076340355\n",
      "[[-0.44479963]\n",
      " [-1.2155359 ]\n",
      " [-1.9862722 ]\n",
      " [-2.7570086 ]]\n"
     ]
    }
   ],
   "source": [
    "x = tf.constant([[1], [2], [3], [4]], dtype=tf.float32)\n",
    "y_true = tf.constant([[0], [-1], [-2], [-3]], dtype=tf.float32)\n",
    "\n",
    "linear_model = tf.layers.Dense(units=1)\n",
    "\n",
    "y_pred = linear_model(x)\n",
    "loss = tf.losses.mean_squared_error(labels=y_true, predictions=y_pred)\n",
    "\n",
    "optimizer = tf.train.GradientDescentOptimizer(0.01)\n",
    "train = optimizer.minimize(loss)\n",
    "\n",
    "init = tf.global_variables_initializer()\n",
    "\n",
    "writer = tf.summary.FileWriter('.')\n",
    "writer.add_graph(tf.get_default_graph())\n",
    "\n",
    "sess = tf.Session()\n",
    "sess.run(init)\n",
    "for i in range(100):\n",
    "  _, loss_value = sess.run((train, loss))\n",
    "  print(loss_value)\n",
    "\n",
    "print(sess.run(y_pred))"
   ]
  },
  {
   "cell_type": "code",
   "execution_count": null,
   "metadata": {},
   "outputs": [],
   "source": []
  }
 ],
 "metadata": {
  "kernelspec": {
   "display_name": "Python 3",
   "language": "python",
   "name": "python3"
  },
  "language_info": {
   "codemirror_mode": {
    "name": "ipython",
    "version": 3
   },
   "file_extension": ".py",
   "mimetype": "text/x-python",
   "name": "python",
   "nbconvert_exporter": "python",
   "pygments_lexer": "ipython3",
   "version": "3.6.6"
  }
 },
 "nbformat": 4,
 "nbformat_minor": 2
}
